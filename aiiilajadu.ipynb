{
 "cells": [
  {
   "cell_type": "code",
   "execution_count": null,
   "id": "79b4c63d-c6c4-46b1-925b-9277740e1f53",
   "metadata": {},
   "outputs": [],
   "source": []
  }
 ],
 "metadata": {
  "kernelspec": {
   "display_name": "",
   "name": ""
  },
  "language_info": {
   "name": ""
  }
 },
 "nbformat": 4,
 "nbformat_minor": 5
}
