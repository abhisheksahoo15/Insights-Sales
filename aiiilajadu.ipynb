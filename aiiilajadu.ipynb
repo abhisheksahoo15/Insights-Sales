{
 "cells": [
  {
   "cell_type": "code",
   "execution_count": 1,
   "id": "79b4c63d-c6c4-46b1-925b-9277740e1f53",
   "metadata": {},
   "outputs": [
    {
     "name": "stdout",
     "output_type": "stream",
     "text": [
      "hello 123\n"
     ]
    }
   ],
   "source": [
    "print(\"hello 123\")"
   ]
  },
  {
   "cell_type": "code",
   "execution_count": null,
   "id": "50e60865-91fd-4b3a-b289-20d243a3a2ab",
   "metadata": {},
   "outputs": [],
   "source": []
  }
 ],
 "metadata": {
  "kernelspec": {
   "display_name": "Python 3 (ipykernel)",
   "language": "python",
   "name": "python3"
  },
  "language_info": {
   "codemirror_mode": {
    "name": "ipython",
    "version": 3
   },
   "file_extension": ".py",
   "mimetype": "text/x-python",
   "name": "python",
   "nbconvert_exporter": "python",
   "pygments_lexer": "ipython3",
   "version": "3.12.7"
  }
 },
 "nbformat": 4,
 "nbformat_minor": 5
}
